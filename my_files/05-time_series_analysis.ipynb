{
 "metadata": {
  "language_info": {
   "codemirror_mode": {
    "name": "ipython",
    "version": 3
   },
   "file_extension": ".py",
   "mimetype": "text/x-python",
   "name": "python",
   "nbconvert_exporter": "python",
   "pygments_lexer": "ipython3",
   "version": 3
  },
  "orig_nbformat": 2
 },
 "nbformat": 4,
 "nbformat_minor": 2,
 "cells": [
  {
   "source": [
    "# Time Series Analysis - Intro \n",
    "\n",
    "## Goal: How does the stock market evolve over time?\n",
    "\n",
    "- 2 major components: \n",
    "    - Holt-Winters Exponential Smoothing model\n",
    "    - ARIMA\n",
    "        - Basically, Linear Regression\n",
    "\n",
    "## Information to consider when trading the market\n",
    "- \"Information\" is a broad work\n",
    "    - Pretty much everythin in ght world is information.\n",
    "    - Investing is a large-scale engineering problem, not just a data science problem.\n",
    "\n",
    "1. Technical data (price/volume)\n",
    "2. Fundamental data (quarterly reports)\n",
    "3. Exogenous data (other public data; ie: Twitter comments, news, etc...)\n",
    "4. Insider Information (non-public company info; ie: knowledge of product rollout, etc...)\n",
    "\n",
    "---"
   ],
   "cell_type": "markdown",
   "metadata": {}
  },
  {
   "source": [
    "## EMH - Efficiant Market Hypothesis\n",
    "*You can't out-perform the market - Stocks trade at their fair price*\n",
    "\n",
    "### 3 forms of EMH\n",
    "1. Weak\n",
    "    - Future prices can't be predicted using historical prices.\n",
    "    - Can't use technical analysis to predict returns\n",
    "2. Semi-Strong\n",
    "    - Stock prices instatnly adjust to all public information.\n",
    "    - Even with the perfect technical and fundamental data, still can't beat the market.\n",
    "3. Strong\n",
    "    - Even with all information (public and private), still can't beat the market.\n",
    "\n",
    "### Is the EMH True?\n",
    "- Going from strong to weak, strong is least-likely to be correct.\n",
    "- If the EMH were true, people wouldn't use words like \"they *believe* the EMH to be true\".\n",
    "\n",
    "### Testing the EMH\n",
    "- The idea is you would test an EMH theory with statistical hypothesis testing.\n",
    "- Using EMH as the null hypothesis, formulate some test statistic, and check how improbable it is under the null hypothesis.\n",
    "\n",
    "---"
   ],
   "cell_type": "markdown",
   "metadata": {}
  },
  {
   "source": [
    "## EMH and the Relationship to Time Series Analysis\n",
    "\n",
    "- Normally with Machine Learning, you expect to see a prediction with a 90-99% accuracy.\n",
    "- In finance, you're not oging to make a perfect prediction of the future.\n",
    "- In this domain, it's more important to observe and improve the modeling, instead of the prediction.\n",
    "- ML tesnds to care only about predictive accuracy\n",
    "- Modeling isn't just about predictions, but telling you what you know or don't know.\n",
    "- Important to know when you *can't* know somehting (shown by modeling), then you won't waste time trying to predict it!\n",
    "\n",
    "---"
   ],
   "cell_type": "markdown",
   "metadata": {}
  },
  {
   "source": [
    "# Random Walk Hypothesis\n",
    "\n",
    "- More mathematical than philosophical\n",
    "- Random walk is a sepcial case of an ARIMA model\n",
    "- In the previous notebook, the preice simulation assumed a random walk.\n",
    "- If stock prices follow a random walk, then they are unpredictable.\n",
    "\n",
    "## Simple Demo of a Random Walk\n",
    "- Basically, walking in 1 dimension - You take a step to either the left or the right based on a random coin flip - This is a random walk where you have a 50% chance of being correct.\n",
    "\n",
    "```math\n",
    "p = price\n",
    "\n",
    "p<sub>0</sub> = some initial value\n",
    "\n",
    "p<sub>1</sub> = p<sub>0</sub> + e<sub>1</sub> where e<sub>1</sub> = (-1 OR 1)\n",
    "\n",
    "p<sub>2</sub> = p<sub>1</sub> + e<sub>2</sub>\n",
    "\n",
    "...\n",
    "\n",
    "p<sub>N</sub> = p<sub>N-1</sub> + e<sub>N</sub>\n",
    "```\n",
    "\n",
    "<br/>\n",
    "\n",
    "## Is the Random Walk Hypothesis Correct?\n",
    "\n",
    "- Assumption: The log returns are iid (Independent and Identically Distributed)\n",
    "- But, in previous notebooks, we have observed **volatility clustering**\n",
    "- Automatically means that the log returns are not identically distributed\n",
    "- If volatility at one moment is related to nearby volatilities, then it's also not independent\n",
    "\n",
    "---"
   ],
   "cell_type": "markdown",
   "metadata": {}
  },
  {
   "source": [
    "# The Naive Forecast\n",
    "\n",
    "- In time series analysis, the simplest baseline is the naive forecast\n",
    "    - That is, taking the last known variable and extending it into the future (ie: if the price of a stock yesterday was $13, then today we predict it will be $13 with a positive and negative margin of error)\n",
    "- NOTE: Bad models can make very good looking naive forecasts\n",
    "\n",
    "- Example of a bad situation\n",
    "    - Suppose you claim to beat the naive forecast\n",
    "    - Is it for in-sample (training) data, or out-of-sample (testing) data?\n",
    "    - Often, when you see the train accuracy rise, the test accuracy gets worse!\n",
    "    - This is usually because of overfitting the model to the noise in the training data\n",
    "    - Saying you got 80% training and 75% test accuracy is meaningless in isolation (without a baseline).\n",
    "\n",
    "## Naive Forecast with Relation to Random Walks\n",
    "- If the data follows a random walk, then the naive forecast is the **best forecast**\n",
    "\n",
    "<br/>\n",
    "\n",
    "---"
   ],
   "cell_type": "markdown",
   "metadata": {}
  },
  {
   "cell_type": "code",
   "execution_count": null,
   "metadata": {},
   "outputs": [],
   "source": []
  }
 ]
}